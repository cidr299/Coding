{
  "nbformat": 4,
  "nbformat_minor": 0,
  "metadata": {
    "colab": {
      "name": "smallest_subarray_with sum greater than x.ipynb",
      "provenance": [],
      "authorship_tag": "ABX9TyPO4A35hpR+D6UXB+PxMvla",
      "include_colab_link": true
    },
    "kernelspec": {
      "name": "python3",
      "display_name": "Python 3"
    },
    "language_info": {
      "name": "python"
    }
  },
  "cells": [
    {
      "cell_type": "markdown",
      "metadata": {
        "id": "view-in-github",
        "colab_type": "text"
      },
      "source": [
        "<a href=\"https://colab.research.google.com/github/cidr299/Coding/blob/main/smallest_subarray_with_sum_greater_than_x.ipynb\" target=\"_parent\"><img src=\"https://colab.research.google.com/assets/colab-badge.svg\" alt=\"Open In Colab\"/></a>"
      ]
    },
    {
      "cell_type": "code",
      "execution_count": null,
      "metadata": {
        "id": "5SoiRjM02E4L"
      },
      "outputs": [],
      "source": [
        "#Question: smallest_subarray_with sum greater than x\n",
        "#Solution: take two pointers with i = 0 index and keep incrementing j until you hit the sum of subarray over x \n",
        "#and if array sublength is less than previous number save it, keep repeating the process by incrementiong i\n",
        "\n",
        "def smallest_subarray(a, x):\n",
        "  if len(a) == 0:\n",
        "    return \"Empty array\"\n",
        "  i = 0\n",
        "  min = len(a)\n",
        "  while i < len(a):\n",
        "    j = i\n",
        "    while j < len(a):\n",
        "      if summ(a[i:j+1]) > x and min > (j-i):\n",
        "        min = j-i\n",
        "        break\n",
        "    i +=1\n",
        "\n",
        "def summ(*args):\n",
        "    total = 0\n",
        "    for num in args[0]:\n",
        "      total += num\n",
        "    return total\n",
        "\n",
        "if __name__ == \"__main__\":\n",
        "    print(smallest_subarray([1, 4, 45, 6, 0, 19], 51))"
      ]
    }
  ]
}