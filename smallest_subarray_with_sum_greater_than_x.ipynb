{
  "nbformat": 4,
  "nbformat_minor": 0,
  "metadata": {
    "colab": {
      "name": "smallest_subarray_with sum greater than x.ipynb",
      "provenance": [],
      "authorship_tag": "ABX9TyM0rVcHJF3gjD2IMMBIJnor",
      "include_colab_link": true
    },
    "kernelspec": {
      "name": "python3",
      "display_name": "Python 3"
    },
    "language_info": {
      "name": "python"
    }
  },
  "cells": [
    {
      "cell_type": "markdown",
      "metadata": {
        "id": "view-in-github",
        "colab_type": "text"
      },
      "source": [
        "<a href=\"https://colab.research.google.com/github/cidr299/Coding/blob/main/smallest_subarray_with_sum_greater_than_x.ipynb\" target=\"_parent\"><img src=\"https://colab.research.google.com/assets/colab-badge.svg\" alt=\"Open In Colab\"/></a>"
      ]
    },
    {
      "cell_type": "code",
      "execution_count": 12,
      "metadata": {
        "id": "5SoiRjM02E4L",
        "colab": {
          "base_uri": "https://localhost:8080/"
        },
        "outputId": "cb757b32-70ce-4084-d199-8b5e5beb3556"
      },
      "outputs": [
        {
          "output_type": "stream",
          "name": "stdout",
          "text": [
            "4\n"
          ]
        }
      ],
      "source": [
        "#Question: smallest_subarray_with sum greater than x\n",
        "#Solution: take two pointers with i = 0 index and keep incrementing j until you hit the sum of subarray over x \n",
        "#and if array sublength is less than previous number save it, keep repeating the process by incrementiong i\n",
        "\n",
        "def smallest_subarray(a, x):\n",
        "  if len(a) == 0:\n",
        "    return \"Empty array\"\n",
        "  i = 0\n",
        "  min = len(a)\n",
        "  while i < len(a):\n",
        "    j = i\n",
        "    while j < len(a):\n",
        "      if summ(a[i:j+1]) > x and min > (j-i):\n",
        "        min = j-i+1\n",
        "        break\n",
        "      j += 1\n",
        "    i +=1\n",
        "  return min\n",
        "\n",
        "def summ(*args):\n",
        "    total = 0\n",
        "    for num in args[0]:\n",
        "      total += num\n",
        "    return total\n",
        "\n",
        "if __name__ == \"__main__\":\n",
        "    print(smallest_subarray([1, 11, 100, 1, 0, 200, 3, 2, 1, 250], 280))"
      ]
    }
  ]
}