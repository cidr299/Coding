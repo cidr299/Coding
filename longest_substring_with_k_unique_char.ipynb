{
  "nbformat": 4,
  "nbformat_minor": 0,
  "metadata": {
    "colab": {
      "name": "longest_substring_with_k_unique_char.ipynb",
      "provenance": [],
      "authorship_tag": "ABX9TyMtq69baj4ay0g5CvchQBy6",
      "include_colab_link": true
    },
    "kernelspec": {
      "name": "python3",
      "display_name": "Python 3"
    },
    "language_info": {
      "name": "python"
    }
  },
  "cells": [
    {
      "cell_type": "markdown",
      "metadata": {
        "id": "view-in-github",
        "colab_type": "text"
      },
      "source": [
        "<a href=\"https://colab.research.google.com/github/cidr299/Coding/blob/main/longest_substring_with_k_unique_char.ipynb\" target=\"_parent\"><img src=\"https://colab.research.google.com/assets/colab-badge.svg\" alt=\"Open In Colab\"/></a>"
      ]
    },
    {
      "cell_type": "code",
      "execution_count": null,
      "metadata": {
        "id": "jLUgqoF8OIoQ"
      },
      "outputs": [],
      "source": [
        ""
      ]
    },
    {
      "cell_type": "code",
      "source": [
        "#Find the longest substring with k unique characters in a given string\n",
        "#Given a string you need to print longest possible substring that has exactly M unique characters. \n",
        "# If there are more than one substring of longest possible length, then print any one of them."
      ],
      "metadata": {
        "id": "zQuUQTxKOJel"
      },
      "execution_count": null,
      "outputs": []
    }
  ]
}