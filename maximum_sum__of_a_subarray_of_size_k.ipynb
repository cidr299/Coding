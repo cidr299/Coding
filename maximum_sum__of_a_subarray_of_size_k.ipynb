{
  "nbformat": 4,
  "nbformat_minor": 0,
  "metadata": {
    "colab": {
      "name": "maximum_sum_ of_a_subarray_of_size_k.ipynb",
      "provenance": [],
      "collapsed_sections": [],
      "authorship_tag": "ABX9TyOvW1hTIPXbB1OerFb+EQ89",
      "include_colab_link": true
    },
    "kernelspec": {
      "name": "python3",
      "display_name": "Python 3"
    },
    "language_info": {
      "name": "python"
    }
  },
  "cells": [
    {
      "cell_type": "markdown",
      "metadata": {
        "id": "view-in-github",
        "colab_type": "text"
      },
      "source": [
        "<a href=\"https://colab.research.google.com/github/cidr299/Coding/blob/main/maximum_sum__of_a_subarray_of_size_k.ipynb\" target=\"_parent\"><img src=\"https://colab.research.google.com/assets/colab-badge.svg\" alt=\"Open In Colab\"/></a>"
      ]
    },
    {
      "cell_type": "code",
      "execution_count": 18,
      "metadata": {
        "colab": {
          "base_uri": "https://localhost:8080/"
        },
        "id": "rA-gfGJavmBA",
        "outputId": "f7cad82f-b10b-4584-deda-2b4ed7dc3e98"
      },
      "outputs": [
        {
          "output_type": "stream",
          "name": "stdout",
          "text": [
            "300\n",
            "500\n",
            "700\n",
            "700\n"
          ]
        }
      ],
      "source": [
        "#Problem: maximum sum of a subarray of size k. Given an array find the subarray of size k which gives max sum\n",
        "\n",
        "#Solution: Take 2 pointer with k window size and keep moving both and save max and result max\n",
        "\n",
        "\n",
        "def find_max(a, k):\n",
        "  if len(a) < k :\n",
        "    return \"Array is too small\"\n",
        "  else:\n",
        "    i = 0\n",
        "    j = k-1\n",
        "    max = 0\n",
        "    while j < len(a):\n",
        "      s = summ(a[i:j+1])\n",
        "      if s > max:\n",
        "        max = s\n",
        "      i += 1\n",
        "      j += 1\n",
        "  return max\n",
        "\n",
        "def summ(*args):\n",
        "    total = 0\n",
        "    for num in args[0]:\n",
        "      total += num\n",
        "    return total\n",
        "\n",
        "if __name__ == \"__main__\":\n",
        "    print(find_max([100, 200, 300, 400], 2))\n",
        "\n",
        "\n"
      ]
    }
  ]
}